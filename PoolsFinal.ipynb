{
 "cells": [
  {
   "cell_type": "code",
   "execution_count": 1,
   "id": "064ac63f-5d4c-49d9-a7c6-3cadb3ad5be5",
   "metadata": {},
   "outputs": [
    {
     "name": "stdout",
     "output_type": "stream",
     "text": [
      "{'Highland Park': 2, 'South Side Flats': 2, 'Bedford Dwellings': 1, 'Banksville': 1, 'Beechview': 1, 'Bloomfield': 1, 'Hazelwood': 1, 'Troy Hill': 1, 'East Hills': 1, 'Homewood South': 1, 'Brighton Heights': 1, 'Greenfield': 1, 'Lincoln Place': 1, 'Shadyside': 1, 'Brookline': 1, 'Carrick': 1, 'Mount Washington': 1, 'Perry North': 1, 'Squirrel Hill South': 1, 'Sheraden': 1, 'Allegheny Center': 1, 'Beltzhoover': 1, 'Polish Hill': 1, 'Westwood': 1, 'South Side Slopes': 1, 'Lincoln-Lemington-Belmar': 1}\n"
     ]
    }
   ],
   "source": [
    "import pandas as pd \n",
    "\n",
    "data = pd.read_csv(\"Pools.csv\",index_col = \"neighborhood\")\n",
    "\n",
    "data.head(28)\n",
    "\n",
    "counts = dict()\n",
    "\n",
    "for index in data.index:\n",
    "    if index not in counts:\n",
    "        counts[index] = 1\n",
    "    else:\n",
    "        counts[index] += 1\n",
    "\n",
    "\n",
    "sorted_counts = dict(sorted(counts.items(), key=lambda item: item[1], reverse=True))\n",
    "\n",
    "\n",
    "print(sorted_counts)\n",
    "\n"
   ]
  },
  {
   "cell_type": "markdown",
   "id": "64b2fa6c-d7cc-4be1-8863-8dcf4fae358e",
   "metadata": {},
   "source": [
    "In conclusion, highland park and South side flats are the best neighborhoods in Pittsburgh due to them being the only ones that have 2 pools. By using a dictionary and counting how many times each neighborhood was mentioned and then sorting them, we were able to find this out."
   ]
  }
 ],
 "metadata": {
  "kernelspec": {
   "display_name": "Python 3 (ipykernel)",
   "language": "python",
   "name": "python3"
  },
  "language_info": {
   "codemirror_mode": {
    "name": "ipython",
    "version": 3
   },
   "file_extension": ".py",
   "mimetype": "text/x-python",
   "name": "python",
   "nbconvert_exporter": "python",
   "pygments_lexer": "ipython3",
   "version": "3.12.4"
  }
 },
 "nbformat": 4,
 "nbformat_minor": 5
}
