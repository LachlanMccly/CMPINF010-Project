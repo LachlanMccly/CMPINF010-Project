{
 "cells": [
  {
   "cell_type": "code",
   "execution_count": 21,
   "id": "e99defd9-b988-46df-8f1e-004708707ec9",
   "metadata": {},
   "outputs": [],
   "source": [
    "import pandas as pd"
   ]
  },
  {
   "cell_type": "code",
   "execution_count": 24,
   "id": "a8a6b9e3-7325-40f9-8a49-e4b8bd82be9c",
   "metadata": {},
   "outputs": [
    {
     "name": "stdout",
     "output_type": "stream",
     "text": [
      "Total number of playgrounds: 125\n"
     ]
    }
   ],
   "source": [
    "## Total number of playgrounds\n",
    "data = pd.read_csv(\"CityPlaygrounds.csv\")\n",
    "\n",
    "total_playgrounds = data.shape[0]\n",
    "\n",
    "print(f\"Total number of playgrounds: {total_playgrounds}\")"
   ]
  },
  {
   "cell_type": "code",
   "execution_count": 22,
   "id": "f1e0c594-9a8d-43b3-b00a-9487666342f9",
   "metadata": {},
   "outputs": [
    {
     "name": "stdout",
     "output_type": "stream",
     "text": [
      "{'Squirrel Hill South': 15, 'Beechview': 9, 'South Side Slopes': 9, 'Allegheny Center': 7, 'Highland Park': 7, 'Sheraden': 7, 'Beltzhoover': 7, 'Crawford-Roberts': 5, 'Hazelwood': 5, 'East Liberty': 5, 'Upper Lawrenceville': 5, 'South Oakland': 5, 'Elliott': 5, 'Carrick': 5, 'Mount Washington': 5, 'Central Northside': 3, 'South Side Flats': 3, 'Brighton Heights': 3, 'Brookline': 3, 'Lincoln-Lemington-Belmar': 3, 'Troy Hill': 3, 'Crafton Heights': 3, 'Garfield': 3, 'Greenfield': 3, 'Morningside': 3, 'Lincoln Place': 3, 'Manchester': 3, 'Marshall-Shadeland': 3, 'Bloomfield': 3, 'Bedford Dwellings': 1, 'Lower Lawrenceville': 1, 'Banksville': 1, 'Homewood North': 1, 'Bon Air': 1, 'Central Oakland': 1, 'Spring Garden': 1, 'Windgap': 1, 'Westwood': 1, 'Perry South': 1, 'Homewood West': 1, 'Strip District': 1, 'Stanton Heights': 1, 'West Oakland': 1, 'East Carnegie': 1, 'Duquesne Heights': 1, 'Esplen': 1, 'Fairywood': 1, 'Fineview': 1, 'Regent Square': 1, 'Allentown': 1, 'Hays': 1, 'Terrace Village': 1, 'Larimer': 1, 'Central Lawrenceville': 1, 'Shadyside': 1, 'Oakwood': 1, 'Perry North': 1, 'Upper Hill': 1, 'New Homestead': 1, 'Spring Hill-City View': 1, 'Swisshelm Park': 1, 'Bluff': 1, 'Middle Hill': 1, 'West End': 1, 'Polish Hill': 1, 'Point Breeze North': 1, 'Squirrel Hill North': 1, 'East Allegheny': 1}\n"
     ]
    }
   ],
   "source": [
    "## Display the neighborhoods, highest to lowest, with their respective amount of playgrounds\n",
    "data = pd.read_csv(\"CityPlaygrounds.csv\", index_col=\"neighborhood\")\n",
    "counts = dict()\n",
    "for index in data.index:\n",
    "    if index not in counts:\n",
    "        counts[index] = 1\n",
    "    else:\n",
    "        counts[index] += 2\n",
    "\n",
    "sorted_counts = dict(sorted(counts.items(), key=lambda item: item[1], reverse=True))\n",
    "print(sorted_counts)\n"
   ]
  },
  {
   "cell_type": "code",
   "execution_count": 23,
   "id": "e1564a58-a802-4a6b-8248-3175bc5f069c",
   "metadata": {},
   "outputs": [
    {
     "name": "stdout",
     "output_type": "stream",
     "text": [
      "The number of neighbrhoods with 1 or less playgrounds:39\n"
     ]
    }
   ],
   "source": [
    "## Display the number of neighborhoods with 1 or less playgrounds\n",
    "data = pd.read_csv(\"CityPlaygrounds.csv\")\n",
    "\n",
    "playground_counts = data[\"neighborhood\"].value_counts()\n",
    "\n",
    "low_playground_neighborhoods = playground_counts[playground_counts <= 1]\n",
    "\n",
    "num_low_playground_neighborhoods = len(low_playground_neighborhoods)\n",
    "\n",
    "print(\"The number of neighbrhoods with 1 or less playgrounds:\" + str(num_low_playground_neighborhoods))"
   ]
  },
  {
   "cell_type": "markdown",
   "id": "eafc8971-e8e3-4d8f-bd4d-4774fb5d32ba",
   "metadata": {},
   "source": [
    "**Conclusion**\n",
    "-\n",
    "Part of finding the \"best\" neighborhood in the city of Pittsburgh is finding the number of playgrounds each neighborhood has. I am basing my conclusion off of the one with the highest number of parks, and that is *Squirrel Hill South*.\n",
    "39 playgrounds of the 125 have only 1 or less playground. Of all 125, only Squirrel Hill South has 15 with Beechview and South Side Slopes tying for second with 9. All in all, since Squirrel Hill South has the most playgrounds, it wins the title of \"best\" in this category."
   ]
  },
  {
   "cell_type": "code",
   "execution_count": null,
   "id": "1b4c72f9-6d6f-4f68-a935-43c87e539045",
   "metadata": {},
   "outputs": [],
   "source": []
  }
 ],
 "metadata": {
  "kernelspec": {
   "display_name": "Python 3 (ipykernel)",
   "language": "python",
   "name": "python3"
  },
  "language_info": {
   "codemirror_mode": {
    "name": "ipython",
    "version": 3
   },
   "file_extension": ".py",
   "mimetype": "text/x-python",
   "name": "python",
   "nbconvert_exporter": "python",
   "pygments_lexer": "ipython3",
   "version": "3.12.4"
  }
 },
 "nbformat": 4,
 "nbformat_minor": 5
}
