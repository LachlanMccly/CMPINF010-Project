{
 "cells": [
  {
   "cell_type": "code",
   "execution_count": 1,
   "id": "42fe7301-f8d7-443d-a82b-17b673ade645",
   "metadata": {},
   "outputs": [
    {
     "name": "stdout",
     "output_type": "stream",
     "text": [
      "{'East Liberty': 23, 'Central Business District': 19, 'Beechview': 15, 'South Side Slopes': 13, 'Point Breeze': 13, 'South Side Flats': 11, 'Hazelwood': 11, 'Squirrel Hill South': 11, 'Mount Washington': 11, 'Sheraden': 11, 'South Oakland': 9, 'Troy Hill': 9, 'Central Oakland': 7, 'Brighton Heights': 7, 'Elliott': 7, 'Marshall-Shadeland': 7, 'Crawford-Roberts': 5, 'North Shore': 5, 'Central Northside': 5, 'Lower Lawrenceville': 5, 'Brookline': 5, 'Lincoln-Lemington-Belmar': 5, 'Westwood': 5, 'Upper Lawrenceville': 5, 'Garfield': 5, 'Greenfield': 5, 'Larimer': 5, 'Bloomfield': 5, 'Spring Hill-City View': 5, 'Carrick': 5, 'Manchester': 5, 'Beltzhoover': 5, 'Point Breeze North': 5, 'Swisshelm Park': 5, 'Allegheny Center': 3, 'Banksville': 3, 'Homewood North': 3, 'Spring Garden': 3, 'Perry South': 3, 'Strip District': 3, 'Crafton Heights': 3, 'Allentown': 3, 'Duquesne Heights': 3, 'Fineview': 3, 'Perry North': 3, 'Highland Park': 3, 'Terrace Village': 3, 'Lincoln Place': 3, 'Polish Hill': 3, 'West End': 3, 'Bedford Dwellings': 1, 'Bon Air': 1, 'Windgap': 1, 'Homewood West': 1, 'Arlington': 1, 'Stanton Heights': 1, 'East Carnegie': 1, 'East Hills': 1, 'Esplen': 1, 'Fairywood': 1, 'North Oakland': 1, 'Hays': 1, 'Homewood South': 1, 'Morningside': 1, 'Central Lawrenceville': 1, 'Oakwood': 1, 'Regent Square': 1, 'Upper Hill': 1, 'New Homestead': 1, 'West Oakland': 1, 'Bluff': 1, 'Middle Hill': 1, 'Squirrel Hill North': 1}\n"
     ]
    }
   ],
   "source": [
    "import pandas as pd\n",
    "data = pd.read_csv(\"cityParks.csv\",index_col=\"neighborhood\")\n",
    "\n",
    "counts = dict()\n",
    "\n",
    "for index in data.index:\n",
    "    if index not in counts:\n",
    "        counts[index] = 1\n",
    "    else:\n",
    "        counts[index]+=2\n",
    "\n",
    "\n",
    "sorted_counts = dict(sorted(counts.items(), key=lambda item: item[1], reverse=True))\n",
    "\n",
    "print(sorted_counts)\n"
   ]
  },
  {
   "cell_type": "code",
   "execution_count": null,
   "id": "836848c2-f346-4cd9-ae79-24c9cfc64340",
   "metadata": {},
   "outputs": [],
   "source": []
  }
 ],
 "metadata": {
  "kernelspec": {
   "display_name": "Python 3 (ipykernel)",
   "language": "python",
   "name": "python3"
  },
  "language_info": {
   "codemirror_mode": {
    "name": "ipython",
    "version": 3
   },
   "file_extension": ".py",
   "mimetype": "text/x-python",
   "name": "python",
   "nbconvert_exporter": "python",
   "pygments_lexer": "ipython3",
   "version": "3.12.4"
  }
 },
 "nbformat": 4,
 "nbformat_minor": 5
}
