{
 "cells": [
  {
   "cell_type": "code",
   "execution_count": 2,
   "id": "42fe7301-f8d7-443d-a82b-17b673ade645",
   "metadata": {},
   "outputs": [
    {
     "name": "stdout",
     "output_type": "stream",
     "text": [
      "{'East Liberty': 12, 'Central Business District': 10, 'Beechview': 8, 'South Side Slopes': 7, 'Point Breeze': 7, 'South Side Flats': 6, 'Hazelwood': 6, 'Squirrel Hill South': 6, 'Mount Washington': 6, 'Sheraden': 6, 'South Oakland': 5, 'Troy Hill': 5, 'Central Oakland': 4, 'Brighton Heights': 4, 'Elliott': 4, 'Marshall-Shadeland': 4, 'Crawford-Roberts': 3, 'North Shore': 3, 'Central Northside': 3, 'Lower Lawrenceville': 3, 'Brookline': 3, 'Lincoln-Lemington-Belmar': 3, 'Westwood': 3, 'Upper Lawrenceville': 3, 'Garfield': 3, 'Greenfield': 3, 'Larimer': 3, 'Bloomfield': 3, 'Spring Hill-City View': 3, 'Carrick': 3, 'Manchester': 3, 'Beltzhoover': 3, 'Point Breeze North': 3, 'Swisshelm Park': 3, 'Allegheny Center': 2, 'Banksville': 2, 'Homewood North': 2, 'Spring Garden': 2, 'Perry South': 2, 'Strip District': 2, 'Crafton Heights': 2, 'Allentown': 2, 'Duquesne Heights': 2, 'Fineview': 2, 'Perry North': 2, 'Highland Park': 2, 'Terrace Village': 2, 'Lincoln Place': 2, 'Polish Hill': 2, 'West End': 2, 'Bedford Dwellings': 1, 'Bon Air': 1, 'Windgap': 1, 'Homewood West': 1, 'Arlington': 1, 'Stanton Heights': 1, 'East Carnegie': 1, 'East Hills': 1, 'Esplen': 1, 'Fairywood': 1, 'North Oakland': 1, 'Hays': 1, 'Homewood South': 1, 'Morningside': 1, 'Central Lawrenceville': 1, 'Oakwood': 1, 'Regent Square': 1, 'Upper Hill': 1, 'New Homestead': 1, 'West Oakland': 1, 'Bluff': 1, 'Middle Hill': 1, 'Squirrel Hill North': 1}\n"
     ]
    }
   ],
   "source": [
    "import pandas as pd\n",
    "data = pd.read_csv(\"cityParks.csv\",index_col=\"neighborhood\")\n",
    "\n",
    "counts = dict()\n",
    "\n",
    "for index in data.index:\n",
    "    if index not in counts:\n",
    "        counts[index] = 1\n",
    "    else:\n",
    "        counts[index]+=1\n",
    "\n",
    "\n",
    "sorted_counts = dict(sorted(counts.items(), key=lambda item: item[1], reverse=True))\n",
    "\n",
    "print(sorted_counts)\n"
   ]
  },
  {
   "cell_type": "markdown",
   "id": "e096fe0f-e3f3-4f74-8956-5069634a8ccf",
   "metadata": {},
   "source": [
    "# Conclusion\n",
    "    East Liberty was the winner for city parks with 12 total parks. Each time a park was called"
   ]
  },
  {
   "cell_type": "code",
   "execution_count": null,
   "id": "52bdfe7c-49a6-4594-bafe-9f2cb107addf",
   "metadata": {},
   "outputs": [],
   "source": []
  }
 ],
 "metadata": {
  "kernelspec": {
   "display_name": "Python 3 (ipykernel)",
   "language": "python",
   "name": "python3"
  },
  "language_info": {
   "codemirror_mode": {
    "name": "ipython",
    "version": 3
   },
   "file_extension": ".py",
   "mimetype": "text/x-python",
   "name": "python",
   "nbconvert_exporter": "python",
   "pygments_lexer": "ipython3",
   "version": "3.12.4"
  }
 },
 "nbformat": 4,
 "nbformat_minor": 5
}
