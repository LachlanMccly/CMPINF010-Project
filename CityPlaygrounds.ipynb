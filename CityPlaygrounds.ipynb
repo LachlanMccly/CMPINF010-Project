{
 "cells": [
  {
   "cell_type": "code",
   "execution_count": 2,
   "id": "e99defd9-b988-46df-8f1e-004708707ec9",
   "metadata": {},
   "outputs": [],
   "source": [
    "import pandas as pd\n",
    "data = pd.read_csv(\"CityPlaygrounds.csv\", index_col=\"neighborhood\")\n"
   ]
  },
  {
   "cell_type": "code",
   "execution_count": 3,
   "id": "f1e0c594-9a8d-43b3-b00a-9487666342f9",
   "metadata": {},
   "outputs": [
    {
     "name": "stdout",
     "output_type": "stream",
     "text": [
      "{'Squirrel Hill South': 15, 'Beechview': 9, 'South Side Slopes': 9, 'Allegheny Center': 7, 'Highland Park': 7, 'Sheraden': 7, 'Beltzhoover': 7, 'Crawford-Roberts': 5, 'Hazelwood': 5, 'East Liberty': 5, 'Upper Lawrenceville': 5, 'South Oakland': 5, 'Elliott': 5, 'Carrick': 5, 'Mount Washington': 5, 'Central Northside': 3, 'South Side Flats': 3, 'Brighton Heights': 3, 'Brookline': 3, 'Lincoln-Lemington-Belmar': 3, 'Troy Hill': 3, 'Crafton Heights': 3, 'Garfield': 3, 'Greenfield': 3, 'Morningside': 3, 'Lincoln Place': 3, 'Manchester': 3, 'Marshall-Shadeland': 3, 'Bloomfield': 3, 'Bedford Dwellings': 1, 'Lower Lawrenceville': 1, 'Banksville': 1, 'Homewood North': 1, 'Bon Air': 1, 'Central Oakland': 1, 'Spring Garden': 1, 'Windgap': 1, 'Westwood': 1, 'Perry South': 1, 'Homewood West': 1, 'Strip District': 1, 'Stanton Heights': 1, 'West Oakland': 1, 'East Carnegie': 1, 'Duquesne Heights': 1, 'Esplen': 1, 'Fairywood': 1, 'Fineview': 1, 'Regent Square': 1, 'Allentown': 1, 'Hays': 1, 'Terrace Village': 1, 'Larimer': 1, 'Central Lawrenceville': 1, 'Shadyside': 1, 'Oakwood': 1, 'Perry North': 1, 'Upper Hill': 1, 'New Homestead': 1, 'Spring Hill-City View': 1, 'Swisshelm Park': 1, 'Bluff': 1, 'Middle Hill': 1, 'West End': 1, 'Polish Hill': 1, 'Point Breeze North': 1, 'Squirrel Hill North': 1, 'East Allegheny': 1}\n"
     ]
    }
   ],
   "source": [
    "counts = dict()\n",
    "for index in data.index:\n",
    "    if index not in counts:\n",
    "        counts[index] = 1\n",
    "    else:\n",
    "        counts[index] += 2\n",
    "\n",
    "sorted_counts = dict(sorted(counts.items(), key=lambda item: item[1], reverse=True))\n",
    "print(sorted_counts)"
   ]
  },
  {
   "cell_type": "code",
   "execution_count": null,
   "id": "d33f3798-93db-4953-abc3-9fad205d9db4",
   "metadata": {},
   "outputs": [],
   "source": []
  }
 ],
 "metadata": {
  "kernelspec": {
   "display_name": "Python 3 (ipykernel)",
   "language": "python",
   "name": "python3"
  },
  "language_info": {
   "codemirror_mode": {
    "name": "ipython",
    "version": 3
   },
   "file_extension": ".py",
   "mimetype": "text/x-python",
   "name": "python",
   "nbconvert_exporter": "python",
   "pygments_lexer": "ipython3",
   "version": "3.12.4"
  }
 },
 "nbformat": 4,
 "nbformat_minor": 5
}
